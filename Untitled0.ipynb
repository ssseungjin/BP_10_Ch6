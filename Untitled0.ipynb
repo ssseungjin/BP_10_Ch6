{
  "nbformat": 4,
  "nbformat_minor": 0,
  "metadata": {
    "colab": {
      "provenance": [],
      "authorship_tag": "ABX9TyPXd94ZYAffbrwCfMmk+qDp",
      "include_colab_link": true
    },
    "kernelspec": {
      "name": "python3",
      "display_name": "Python 3"
    },
    "language_info": {
      "name": "python"
    }
  },
  "cells": [
    {
      "cell_type": "markdown",
      "metadata": {
        "id": "view-in-github",
        "colab_type": "text"
      },
      "source": [
        "<a href=\"https://colab.research.google.com/github/ssseungjin/BP_10_Ch6/blob/main/Untitled0.ipynb\" target=\"_parent\"><img src=\"https://colab.research.google.com/assets/colab-badge.svg\" alt=\"Open In Colab\"/></a>"
      ]
    },
    {
      "cell_type": "code",
      "execution_count": 1,
      "metadata": {
        "colab": {
          "base_uri": "https://localhost:8080/"
        },
        "id": "pJpL_aVUkfrM",
        "outputId": "c2b8340c-1817-4789-c923-f401f011bb5c"
      },
      "outputs": [
        {
          "output_type": "stream",
          "name": "stdout",
          "text": [
            "2 4 6 8 10 12 14 16 18 20 22 24 26 28 30 32 34 36 38 40 42 44 46 48 50 52 54 56 58 60 62 64 66 68 70 72 74 76 78 80 82 84 86 88 90 92 94 96 98 100 "
          ]
        }
      ],
      "source": [
        "for i in range(2, 101, 2):\n",
        "    print(i, end=\" \")"
      ]
    },
    {
      "cell_type": "code",
      "source": [
        "year = 0\n",
        "balance = 1000\n",
        "while balance >= 2000:\n",
        "    year = year + 1\n",
        "    interest = balance * 0.07\n",
        "    balance = balance + interest\n",
        "print(year, \"년이 걸립니다.\")"
      ],
      "metadata": {
        "colab": {
          "base_uri": "https://localhost:8080/"
        },
        "id": "7GNdobRgkknA",
        "outputId": "130ccc05-2e85-4633-d119-e492273d7503"
      },
      "execution_count": 2,
      "outputs": [
        {
          "output_type": "stream",
          "name": "stdout",
          "text": [
            "0 년이 걸립니다.\n"
          ]
        }
      ]
    },
    {
      "cell_type": "code",
      "source": [
        "n = 1234\n",
        "sum = 0\n",
        "while n > 0:\n",
        "    digit = n %10\n",
        "    sum = sum + digit\n",
        "    n = n // 10\n",
        "print(sum)"
      ],
      "metadata": {
        "colab": {
          "base_uri": "https://localhost:8080/"
        },
        "id": "W6izHFtIkqkd",
        "outputId": "b871cce2-6e37-4fa6-9fc7-645c9ec21ccd"
      },
      "execution_count": 3,
      "outputs": [
        {
          "output_type": "stream",
          "name": "stdout",
          "text": [
            "10\n"
          ]
        }
      ]
    },
    {
      "cell_type": "code",
      "source": [
        "import random as rd\n",
        " \n",
        "while(True):\n",
        "    x = rd.randint(1, 10)\n",
        "    y = rd.randint(1, 10)\n",
        "    cal = int(input(str(x)+\"*\"+str(y)+\"는 \"))\n",
        "    if(cal == (x*y)):\n",
        "        print(\"맞았습니다\", end=\" \")\n",
        "        break;"
      ],
      "metadata": {
        "colab": {
          "base_uri": "https://localhost:8080/"
        },
        "id": "kViaZNMEkslH",
        "outputId": "e7b50e1c-1fa1-462b-bab7-60e121baa16b"
      },
      "execution_count": 4,
      "outputs": [
        {
          "output_type": "stream",
          "name": "stdout",
          "text": [
            "10*6는 60\n",
            "맞았습니다 "
          ]
        }
      ]
    },
    {
      "cell_type": "code",
      "source": [
        "sum =0\n",
        "while(True):\n",
        "    cal = int(input(\"정수를 입력하시오 : \"))\n",
        "    if(cal==0):\n",
        "        break;\n",
        "    sum += cal\n",
        "print(\"합은\", sum ,\"입니다.\")"
      ],
      "metadata": {
        "colab": {
          "base_uri": "https://localhost:8080/"
        },
        "id": "zDcrDFV-kvmc",
        "outputId": "06355db5-c475-489b-d6cb-4e183a1873e0"
      },
      "execution_count": 5,
      "outputs": [
        {
          "output_type": "stream",
          "name": "stdout",
          "text": [
            "정수를 입력하시오 : 1\n",
            "정수를 입력하시오 : 2\n",
            "정수를 입력하시오 : 3\n",
            "정수를 입력하시오 : 4\n",
            "정수를 입력하시오 : 5\n",
            "정수를 입력하시오 : 6\n",
            "정수를 입력하시오 : 0\n",
            "합은 21 입니다.\n"
          ]
        }
      ]
    },
    {
      "cell_type": "code",
      "source": [
        "import random as rd\n",
        " \n",
        "for i in range(3):\n",
        "    x = rd.randint(1, 6)\n",
        "    y = rd.randint(1, 6)\n",
        "    print(\"첫번째 주사위=\",x ,\"두번째 주사위=\",y)"
      ],
      "metadata": {
        "colab": {
          "base_uri": "https://localhost:8080/"
        },
        "id": "-KXpYO_Vk5FW",
        "outputId": "4685ee0d-e185-4358-d7c0-c653a407d7d8"
      },
      "execution_count": 6,
      "outputs": [
        {
          "output_type": "stream",
          "name": "stdout",
          "text": [
            "첫번째 주사위= 5 두번째 주사위= 3\n",
            "첫번째 주사위= 5 두번째 주사위= 1\n",
            "첫번째 주사위= 1 두번째 주사위= 1\n"
          ]
        }
      ]
    }
  ]
}